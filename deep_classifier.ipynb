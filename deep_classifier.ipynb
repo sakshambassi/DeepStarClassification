{
 "cells": [
  {
   "cell_type": "code",
   "execution_count": 1,
   "metadata": {},
   "outputs": [
    {
     "name": "stderr",
     "output_type": "stream",
     "text": [
      "Using TensorFlow backend.\n"
     ]
    }
   ],
   "source": [
    "from PIL import Image\n",
    "from numpy import array\n",
    "import numpy as np\n",
    "from sklearn.model_selection import train_test_split\n",
    "from sklearn.preprocessing import LabelEncoder\n",
    "import keras\n",
    "from keras.models import Sequential\n",
    "from keras.layers import Dense, Dropout, Flatten\n",
    "from keras.layers import Conv2D, MaxPooling2D\n",
    "from keras import backend as K\n",
    "from keras import regularizers"
   ]
  },
  {
   "cell_type": "code",
   "execution_count": 2,
   "metadata": {},
   "outputs": [
    {
     "name": "stdout",
     "output_type": "stream",
     "text": [
      "(35425,) (35425, 22, 24, 4)\n",
      "(28340, 22, 24, 4)\n",
      "(22672, 22, 24, 4)\n",
      "('x_train shape: ', (22672, 22, 24, 4))\n",
      "(22672, 'train samples')\n",
      "(7085, 'test samples')\n"
     ]
    }
   ],
   "source": [
    "data = np.load(\"zdmdtImages.npz\")\n",
    "print data['Y'][:-3].shape,data['X'].shape\n",
    "\n",
    "batch_size = 32\n",
    "num_classes = 2\n",
    "epochs = 12\n",
    "# splitting data into train and test\n",
    "x_train, x_test, y_train, y_test= train_test_split(data['X'], data['Y'][:-3], test_size=0.20, random_state=42, stratify=data['Y'][:-3])\n",
    "# splitting train into valid dataset\n",
    "print x_train.shape\n",
    "x_train, x_valid, y_train, y_valid = train_test_split(x_train, y_train, test_size=0.20, random_state=42, stratify=y_train)\n",
    "print x_train.shape\n",
    "x_train = x_train.astype('float32')\n",
    "x_test = x_test.astype('float32')\n",
    "x_train /= 255\n",
    "x_test /= 255\n",
    "\n",
    "print('x_train shape: ', x_train.shape)\n",
    "print(x_train.shape[0], 'train samples')\n",
    "print(x_test.shape[0], 'test samples')"
   ]
  },
  {
   "cell_type": "code",
   "execution_count": 3,
   "metadata": {},
   "outputs": [],
   "source": [
    "y_train = keras.utils.to_categorical(y_train, num_classes)\n",
    "y_test = keras.utils.to_categorical(y_test, num_classes)\n",
    "y_valid = keras.utils.to_categorical(y_valid, num_classes)"
   ]
  },
  {
   "cell_type": "code",
   "execution_count": null,
   "metadata": {
    "scrolled": false
   },
   "outputs": [
    {
     "name": "stdout",
     "output_type": "stream",
     "text": [
      "_________________________________________________________________\n",
      "Layer (type)                 Output Shape              Param #   \n",
      "=================================================================\n",
      "conv2d_4 (Conv2D)            (None, 21, 23, 32)        544       \n",
      "_________________________________________________________________\n",
      "max_pooling2d_2 (MaxPooling2 (None, 11, 12, 32)        0         \n",
      "_________________________________________________________________\n",
      "dropout_3 (Dropout)          (None, 11, 12, 32)        0         \n",
      "_________________________________________________________________\n",
      "conv2d_5 (Conv2D)            (None, 7, 8, 64)          51264     \n",
      "_________________________________________________________________\n",
      "conv2d_6 (Conv2D)            (None, 3, 4, 128)         204928    \n",
      "_________________________________________________________________\n",
      "flatten_2 (Flatten)          (None, 1536)              0         \n",
      "_________________________________________________________________\n",
      "dense_4 (Dense)              (None, 512)               786944    \n",
      "_________________________________________________________________\n",
      "dropout_4 (Dropout)          (None, 512)               0         \n",
      "_________________________________________________________________\n",
      "dense_5 (Dense)              (None, 256)               131328    \n",
      "_________________________________________________________________\n",
      "dense_6 (Dense)              (None, 2)                 514       \n",
      "=================================================================\n",
      "Total params: 1,175,522\n",
      "Trainable params: 1,175,522\n",
      "Non-trainable params: 0\n",
      "_________________________________________________________________\n",
      "Train on 22672 samples, validate on 5668 samples\n",
      "Epoch 1/50\n",
      "22672/22672 [==============================] - 57s 3ms/step - loss: 2.3678 - acc: 0.8665 - val_loss: 2.2512 - val_acc: 0.8679\n",
      "Epoch 2/50\n",
      "22672/22672 [==============================] - 55s 2ms/step - loss: 2.1931 - acc: 0.8679 - val_loss: 2.1616 - val_acc: 0.8679\n",
      "Epoch 3/50\n",
      "22672/22672 [==============================] - 51s 2ms/step - loss: 2.1492 - acc: 0.8679 - val_loss: 2.1420 - val_acc: 0.8679\n",
      "Epoch 4/50\n",
      "22672/22672 [==============================] - 49s 2ms/step - loss: 2.1375 - acc: 0.8679 - val_loss: 2.1354 - val_acc: 0.8679\n",
      "Epoch 5/50\n",
      "22672/22672 [==============================] - 50s 2ms/step - loss: 2.1331 - acc: 0.8679 - val_loss: 2.1326 - val_acc: 0.8679\n",
      "Epoch 6/50\n",
      "22672/22672 [==============================] - 49s 2ms/step - loss: 2.1312 - acc: 0.8679 - val_loss: 2.1314 - val_acc: 0.8679\n",
      "Epoch 7/50\n",
      "22672/22672 [==============================] - 48s 2ms/step - loss: 2.1303 - acc: 0.8679 - val_loss: 2.1307 - val_acc: 0.8679\n",
      "Epoch 8/50\n",
      "22672/22672 [==============================] - 49s 2ms/step - loss: 2.1299 - acc: 0.8679 - val_loss: 2.1304 - val_acc: 0.8679\n",
      "Epoch 9/50\n",
      "22672/22672 [==============================] - 49s 2ms/step - loss: 2.1315 - acc: 0.8679 - val_loss: 2.1535 - val_acc: 0.8679\n",
      "Epoch 10/50\n",
      "22672/22672 [==============================] - 48s 2ms/step - loss: 2.1290 - acc: 0.8604 - val_loss: 2.1501 - val_acc: 0.8679\n",
      "Epoch 11/50\n",
      "22672/22672 [==============================] - 47s 2ms/step - loss: 0.4123 - acc: 0.8679 - val_loss: 2.1394 - val_acc: 0.8679\n",
      "Epoch 12/50\n",
      "22672/22672 [==============================] - 48s 2ms/step - loss: 0.4002 - acc: 0.8679 - val_loss: 2.1363 - val_acc: 0.8679\n",
      "Epoch 13/50\n",
      "22672/22672 [==============================] - 50s 2ms/step - loss: 0.3913 - acc: 0.8679 - val_loss: 2.1197 - val_acc: 0.8679\n",
      "Epoch 14/50\n",
      "22672/22672 [==============================] - 49s 2ms/step - loss: 0.3722 - acc: 0.8686 - val_loss: 2.1469 - val_acc: 0.8613\n",
      "Epoch 15/50\n",
      "22672/22672 [==============================] - 48s 2ms/step - loss: 0.3471 - acc: 0.8730 - val_loss: 3.0103 - val_acc: 0.8029\n",
      "Epoch 16/50\n",
      "22672/22672 [==============================] - 48s 2ms/step - loss: 0.3343 - acc: 0.8775 - val_loss: 2.5342 - val_acc: 0.8373\n",
      "Epoch 17/50\n",
      "22672/22672 [==============================] - 46s 2ms/step - loss: 0.3284 - acc: 0.8787 - val_loss: 2.4669 - val_acc: 0.8365\n",
      "Epoch 18/50\n",
      "22672/22672 [==============================] - 46s 2ms/step - loss: 0.3219 - acc: 0.8810 - val_loss: 2.5148 - val_acc: 0.8335\n",
      "Epoch 19/50\n",
      "22672/22672 [==============================] - 47s 2ms/step - loss: 0.3204 - acc: 0.8817 - val_loss: 2.1751 - val_acc: 0.8585\n",
      "Epoch 20/50\n",
      "22672/22672 [==============================] - 46s 2ms/step - loss: 0.3126 - acc: 0.8840 - val_loss: 3.1407 - val_acc: 0.7915\n",
      "Epoch 21/50\n",
      "22672/22672 [==============================] - 50s 2ms/step - loss: 0.3098 - acc: 0.8873 - val_loss: 1.7498 - val_acc: 0.8890\n",
      "Epoch 22/50\n",
      "22672/22672 [==============================] - 49s 2ms/step - loss: 0.3079 - acc: 0.8872 - val_loss: 2.2436 - val_acc: 0.8546\n",
      "Epoch 23/50\n",
      "22672/22672 [==============================] - 52s 2ms/step - loss: 0.3043 - acc: 0.8882 - val_loss: 1.8118 - val_acc: 0.8841\n",
      "Epoch 24/50\n",
      "22672/22672 [==============================] - 51s 2ms/step - loss: 0.3013 - acc: 0.8884 - val_loss: 1.6793 - val_acc: 0.8933\n",
      "Epoch 25/50\n",
      "22672/22672 [==============================] - 50s 2ms/step - loss: 0.3006 - acc: 0.8898 - val_loss: 2.5190 - val_acc: 0.8352\n",
      "Epoch 26/50\n",
      "22672/22672 [==============================] - 50s 2ms/step - loss: 0.2999 - acc: 0.8888 - val_loss: 1.7498 - val_acc: 0.8860\n",
      "Epoch 27/50\n",
      "22672/22672 [==============================] - 49s 2ms/step - loss: 0.2979 - acc: 0.8912 - val_loss: 1.6506 - val_acc: 0.8931\n",
      "Epoch 28/50\n",
      "22672/22672 [==============================] - 49s 2ms/step - loss: 0.2947 - acc: 0.8926 - val_loss: 1.7702 - val_acc: 0.8857\n",
      "Epoch 29/50\n",
      "17664/22672 [======================>.......] - ETA: 10s - loss: 0.2960 - acc: 0.8929"
     ]
    }
   ],
   "source": [
    "model = Sequential()\n",
    "model.add(Conv2D(32, kernel_size=(2, 2),\n",
    "                 activation = 'relu',\n",
    "                 input_shape = (22, 24, 4)))\n",
    "model.add(MaxPooling2D(pool_size=(2, 2), padding=\"same\"))\n",
    "model.add(Dropout(0.1))\n",
    "model.add(Conv2D(64,kernel_size=(5, 5), activation = 'relu'))\n",
    "model.add(Conv2D(128,kernel_size=(5, 5), activation = 'relu'))\n",
    "model.add(Flatten())\n",
    "model.add(Dense(512, activation='relu',kernel_regularizer=regularizers.l2(0.01)))\n",
    "model.add(Dropout(0.5))\n",
    "model.add(Dense(256, activation='relu'))\n",
    "model.add(Dense(num_classes, activation='softmax'))\n",
    "model.summary()\n",
    "class_weight = {0: 1.,\n",
    "                1: 1.}\n",
    "\n",
    "#try mean squared error for loss, patience to 10, kernel size consistent to (3,3), categorical crossentropy loss\n",
    "# and look at upsilon on github, increase epocs marginally, binary classification for other classes, \n",
    "# the number of color filters should be 3 instead of 4, try taking images directly as input to NN\n",
    "model.compile(loss=keras.losses.categorical_crossentropy,\n",
    "              optimizer=keras.optimizers.Adagrad(),\n",
    "              metrics=['accuracy'])\n",
    "earlyStopping = keras.callbacks.EarlyStopping(monitor='val_loss',min_delta=1e-6,patience=10,verbose=0, mode='auto')\n",
    "\n",
    "model.fit(x_train, y_train,\n",
    "          batch_size=128,\n",
    "          epochs=50,\n",
    "          verbose=1,\n",
    "          validation_data=(x_valid,y_valid),\n",
    "          callbacks=[earlyStopping],\n",
    "         class_weight=class_weight)\n",
    "\n",
    "score = model.evaluate(x_test, y_test, verbose=0)\n",
    "print('Test loss:', score[0])\n",
    "print('Test accuracy:', score[1])"
   ]
  },
  {
   "cell_type": "code",
   "execution_count": 5,
   "metadata": {},
   "outputs": [
    {
     "data": {
      "text/plain": [
       "array([[6136,   13],\n",
       "       [ 873,   63]])"
      ]
     },
     "execution_count": 5,
     "metadata": {},
     "output_type": "execute_result"
    }
   ],
   "source": [
    "ypred = model.predict(x_test)\n",
    "from sklearn.metrics import confusion_matrix\n",
    "confusion_matrix(y_test.argmax(axis=1),ypred.argmax(axis=1))"
   ]
  },
  {
   "cell_type": "code",
   "execution_count": 6,
   "metadata": {},
   "outputs": [
    {
     "data": {
      "text/plain": [
       "(array([ 0.87544586,  0.82894737]),\n",
       " array([ 0.99788584,  0.06730769]),\n",
       " array([ 0.93266454,  0.12450593]),\n",
       " array([6149,  936]))"
      ]
     },
     "execution_count": 6,
     "metadata": {},
     "output_type": "execute_result"
    }
   ],
   "source": [
    "from sklearn.metrics import precision_recall_fscore_support\n",
    "precision_recall_fscore_support(y_test.argmax(axis=1), ypred.argmax(axis=1))"
   ]
  }
 ],
 "metadata": {
  "kernelspec": {
   "display_name": "Python 2",
   "language": "python",
   "name": "python2"
  },
  "language_info": {
   "codemirror_mode": {
    "name": "ipython",
    "version": 2
   },
   "file_extension": ".py",
   "mimetype": "text/x-python",
   "name": "python",
   "nbconvert_exporter": "python",
   "pygments_lexer": "ipython2",
   "version": "2.7.8"
  }
 },
 "nbformat": 4,
 "nbformat_minor": 2
}
