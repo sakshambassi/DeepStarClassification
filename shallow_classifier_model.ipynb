{
 "cells": [
  {
   "cell_type": "code",
   "execution_count": 1,
   "metadata": {},
   "outputs": [
    {
     "name": "stderr",
     "output_type": "stream",
     "text": [
      "Using TensorFlow backend.\n"
     ]
    }
   ],
   "source": [
    "from PIL import Image\n",
    "from numpy import array\n",
    "import numpy as np\n",
    "from sklearn.model_selection import train_test_split\n",
    "from sklearn.preprocessing import LabelEncoder\n",
    "import keras\n",
    "from keras.models import Sequential\n",
    "from keras.layers import Dense, Dropout, Flatten\n",
    "from keras.layers import Conv2D, MaxPooling2D\n",
    "from keras import backend as K\n",
    "from keras import regularizers"
   ]
  },
  {
   "cell_type": "code",
   "execution_count": 2,
   "metadata": {},
   "outputs": [
    {
     "name": "stdout",
     "output_type": "stream",
     "text": [
      "(35425,) (35425, 22, 24, 4)\n",
      "(28340, 22, 24, 4)\n",
      "(19838, 22, 24, 4)\n",
      "('x_train shape: ', (19838, 22, 24, 4))\n",
      "(19838, 'train samples')\n",
      "(7085, 'test samples')\n"
     ]
    }
   ],
   "source": [
    "data = np.load(\"zdmdtImages.npz\")\n",
    "print data['Y'][:-3].shape,data['X'].shape\n",
    "\n",
    "batch_size = 32\n",
    "num_classes = 2\n",
    "epochs = 12\n",
    "# splitting data into train and test\n",
    "x_train, x_test, y_train, y_test= train_test_split(data['X'], data['Y'][:-3], test_size=0.20, random_state=42, stratify=data['Y'][:-3])\n",
    "# splitting train into valid dataset\n",
    "print x_train.shape\n",
    "x_train, x_valid, y_train, y_valid = train_test_split(x_train, y_train, test_size=0.30, random_state=42, stratify=y_train)\n",
    "print x_train.shape\n",
    "x_train = x_train.astype('float32')\n",
    "x_test = x_test.astype('float32')\n",
    "x_train /= 255\n",
    "x_test /= 255\n",
    "\n",
    "print('x_train shape: ', x_train.shape)\n",
    "print(x_train.shape[0], 'train samples')\n",
    "print(x_test.shape[0], 'test samples')"
   ]
  },
  {
   "cell_type": "code",
   "execution_count": 3,
   "metadata": {},
   "outputs": [],
   "source": [
    "y_train = keras.utils.to_categorical(y_train, num_classes)\n",
    "y_test = keras.utils.to_categorical(y_test, num_classes)\n",
    "y_valid = keras.utils.to_categorical(y_valid, num_classes)"
   ]
  },
  {
   "cell_type": "code",
   "execution_count": 24,
   "metadata": {},
   "outputs": [
    {
     "name": "stdout",
     "output_type": "stream",
     "text": [
      "_________________________________________________________________\n",
      "Layer (type)                 Output Shape              Param #   \n",
      "=================================================================\n",
      "conv2d_11 (Conv2D)           (None, 20, 22, 8)         296       \n",
      "_________________________________________________________________\n",
      "conv2d_12 (Conv2D)           (None, 16, 18, 16)        3216      \n",
      "_________________________________________________________________\n",
      "max_pooling2d_6 (MaxPooling2 (None, 8, 9, 16)          0         \n",
      "_________________________________________________________________\n",
      "dropout_5 (Dropout)          (None, 8, 9, 16)          0         \n",
      "_________________________________________________________________\n",
      "flatten_6 (Flatten)          (None, 1152)              0         \n",
      "_________________________________________________________________\n",
      "dense_12 (Dense)             (None, 2048)              2361344   \n",
      "_________________________________________________________________\n",
      "dropout_6 (Dropout)          (None, 2048)              0         \n",
      "_________________________________________________________________\n",
      "dense_13 (Dense)             (None, 512)               1049088   \n",
      "_________________________________________________________________\n",
      "dense_14 (Dense)             (None, 2)                 1026      \n",
      "=================================================================\n",
      "Total params: 3,414,970\n",
      "Trainable params: 3,414,970\n",
      "Non-trainable params: 0\n",
      "_________________________________________________________________\n"
     ]
    }
   ],
   "source": [
    "# with regularisation in dense layer\n",
    "model = Sequential()\n",
    "model.add(Conv2D(8, kernel_size=(3, 3),\n",
    "                 activation='relu',\n",
    "                 input_shape=(22, 24, 4)))\n",
    "model.add(Conv2D(16, (5, 5), activation='relu'))\n",
    "model.add(MaxPooling2D(pool_size=(2, 2), padding=\"same\"))\n",
    "model.add(Dropout(0.25))\n",
    "model.add(Flatten())\n",
    "model.add(Dense(2048, activation='relu', kernel_regularizer=regularizers.l2(0.02)))\n",
    "model.add(Dropout(0.5))\n",
    "model.add(Dense(512, activation='relu'))\n",
    "model.add(Dense(num_classes, activation='softmax'))\n",
    "model.summary()\n",
    "model.compile(loss=keras.losses.categorical_crossentropy,\n",
    "              optimizer=keras.optimizers.Adagrad(),\n",
    "              metrics=['accuracy'])\n",
    "# adaptive gradient, batch size should increase, avoid overfitting, increase epochs\n",
    "class_weight = {0: 1.,\n",
    "                1: 7.}"
   ]
  },
  {
   "cell_type": "code",
   "execution_count": 25,
   "metadata": {
    "scrolled": false
   },
   "outputs": [
    {
     "name": "stdout",
     "output_type": "stream",
     "text": [
      "Train on 19838 samples, validate on 8502 samples\n",
      "Epoch 1/40\n",
      "19838/19838 [==============================] - 51s 3ms/step - loss: 2.0961 - acc: 0.5324 - val_loss: 13.3667 - val_acc: 0.1665\n",
      "Epoch 2/40\n",
      "19838/19838 [==============================] - 48s 2ms/step - loss: 1.0671 - acc: 0.7482 - val_loss: 3.7338 - val_acc: 0.7483\n",
      "Epoch 3/40\n",
      "19838/19838 [==============================] - 47s 2ms/step - loss: 1.0182 - acc: 0.7553 - val_loss: 7.6073 - val_acc: 0.5134\n",
      "Epoch 4/40\n",
      "19838/19838 [==============================] - 46s 2ms/step - loss: 0.9881 - acc: 0.7622 - val_loss: 7.1359 - val_acc: 0.5300\n",
      "Epoch 5/40\n",
      "19838/19838 [==============================] - 48s 2ms/step - loss: 0.9735 - acc: 0.7662 - val_loss: 7.9681 - val_acc: 0.4812\n",
      "Epoch 6/40\n",
      "19838/19838 [==============================] - 47s 2ms/step - loss: 0.9492 - acc: 0.7692 - val_loss: 6.6426 - val_acc: 0.5652\n",
      "Epoch 7/40\n",
      "19838/19838 [==============================] - 52s 3ms/step - loss: 0.9386 - acc: 0.7746 - val_loss: 5.2187 - val_acc: 0.6483\n",
      "('Test loss:', 0.47681200007948138)\n",
      "('Test accuracy:', 0.83429781231311484)\n"
     ]
    }
   ],
   "source": [
    "earlyStopping = keras.callbacks.EarlyStopping(monitor='val_loss',min_delta=1e-6,patience=5,verbose=0, mode='auto')\n",
    "\n",
    "model.fit(x_train, y_train,\n",
    "          batch_size=64,\n",
    "          epochs=40,\n",
    "          verbose=1,\n",
    "          validation_data=(x_valid,y_valid),\n",
    "          callbacks=[earlyStopping],\n",
    "         class_weight=class_weight)\n",
    "\n",
    "score = model.evaluate(x_test, y_test, verbose=0)\n",
    "print('Test loss:', score[0])\n",
    "print('Test accuracy:', score[1])"
   ]
  },
  {
   "cell_type": "code",
   "execution_count": 26,
   "metadata": {},
   "outputs": [
    {
     "data": {
      "text/plain": [
       "array([[5281,  868],\n",
       "       [ 306,  630]])"
      ]
     },
     "execution_count": 26,
     "metadata": {},
     "output_type": "execute_result"
    }
   ],
   "source": [
    "ypred = model.predict(x_test)\n",
    "from sklearn.metrics import confusion_matrix\n",
    "confusion_matrix(y_test.argmax(axis=1),ypred.argmax(axis=1))"
   ]
  },
  {
   "cell_type": "code",
   "execution_count": 28,
   "metadata": {},
   "outputs": [
    {
     "data": {
      "text/plain": [
       "(array([ 0.94523   ,  0.42056075]),\n",
       " array([ 0.85883884,  0.67307692]),\n",
       " array([ 0.89996592,  0.51766639]),\n",
       " array([6149,  936]))"
      ]
     },
     "execution_count": 28,
     "metadata": {},
     "output_type": "execute_result"
    }
   ],
   "source": [
    "from sklearn.metrics import precision_recall_fscore_support\n",
    "precision_recall_fscore_support(y_test.argmax(axis=1), ypred.argmax(axis=1))"
   ]
  }
 ],
 "metadata": {
  "kernelspec": {
   "display_name": "Python 2",
   "language": "python",
   "name": "python2"
  },
  "language_info": {
   "codemirror_mode": {
    "name": "ipython",
    "version": 2
   },
   "file_extension": ".py",
   "mimetype": "text/x-python",
   "name": "python",
   "nbconvert_exporter": "python",
   "pygments_lexer": "ipython2",
   "version": "2.7.8"
  }
 },
 "nbformat": 4,
 "nbformat_minor": 2
}
