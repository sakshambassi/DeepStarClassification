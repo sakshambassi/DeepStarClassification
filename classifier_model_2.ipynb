{
 "cells": [
  {
   "cell_type": "code",
   "execution_count": 1,
   "metadata": {},
   "outputs": [
    {
     "name": "stderr",
     "output_type": "stream",
     "text": [
      "Using TensorFlow backend.\n"
     ]
    }
   ],
   "source": [
    "from PIL import Image\n",
    "from numpy import array\n",
    "import numpy as np\n",
    "from sklearn.model_selection import train_test_split\n",
    "from sklearn.preprocessing import LabelEncoder\n",
    "import keras\n",
    "from keras.models import Sequential\n",
    "from keras.layers import Dense, Dropout, Flatten\n",
    "from keras.layers import Conv2D, MaxPooling2D\n",
    "from keras import backend as K\n",
    "from keras import regularizers"
   ]
  },
  {
   "cell_type": "code",
   "execution_count": 5,
   "metadata": {},
   "outputs": [
    {
     "name": "stdout",
     "output_type": "stream",
     "text": [
      "(35425,) (35425, 22, 24, 4)\n",
      "(28340, 22, 24, 4)\n",
      "(19838, 22, 24, 4)\n",
      "('x_train shape: ', (19838, 22, 24, 4))\n",
      "(19838, 'train samples')\n",
      "(7085, 'test samples')\n"
     ]
    }
   ],
   "source": [
    "data = np.load(\"zdmdtImages.npz\")\n",
    "print data['Y'][:-3].shape,data['X'].shape\n",
    "\n",
    "batch_size = 32\n",
    "num_classes = 2\n",
    "epochs = 12\n",
    "# splitting data into train and test\n",
    "x_train, x_test, y_train, y_test= train_test_split(data['X'], data['Y'][:-3], test_size=0.20, random_state=42, stratify=data['Y'][:-3])\n",
    "# splitting train into valid dataset\n",
    "print x_train.shape\n",
    "x_train, x_valid, y_train, y_valid = train_test_split(x_train, y_train, test_size=0.30, random_state=42, stratify=y_train)\n",
    "print x_train.shape\n",
    "x_train = x_train.astype('float32')\n",
    "x_test = x_test.astype('float32')\n",
    "x_train /= 255\n",
    "x_test /= 255\n",
    "\n",
    "print('x_train shape: ', x_train.shape)\n",
    "print(x_train.shape[0], 'train samples')\n",
    "print(x_test.shape[0], 'test samples')"
   ]
  },
  {
   "cell_type": "code",
   "execution_count": 6,
   "metadata": {},
   "outputs": [],
   "source": [
    "y_train = keras.utils.to_categorical(y_train, num_classes)\n",
    "y_test = keras.utils.to_categorical(y_test, num_classes)\n",
    "y_valid = keras.utils.to_categorical(y_valid, num_classes)"
   ]
  },
  {
   "cell_type": "code",
   "execution_count": 14,
   "metadata": {},
   "outputs": [
    {
     "name": "stdout",
     "output_type": "stream",
     "text": [
      "_________________________________________________________________\n",
      "Layer (type)                 Output Shape              Param #   \n",
      "=================================================================\n",
      "conv2d_7 (Conv2D)            (None, 10, 11, 8)         296       \n",
      "_________________________________________________________________\n",
      "conv2d_8 (Conv2D)            (None, 3, 4, 16)          3216      \n",
      "_________________________________________________________________\n",
      "max_pooling2d_4 (MaxPooling2 (None, 2, 2, 16)          0         \n",
      "_________________________________________________________________\n",
      "dropout_7 (Dropout)          (None, 2, 2, 16)          0         \n",
      "_________________________________________________________________\n",
      "flatten_4 (Flatten)          (None, 64)                0         \n",
      "_________________________________________________________________\n",
      "dense_7 (Dense)              (None, 128)               8320      \n",
      "_________________________________________________________________\n",
      "dropout_8 (Dropout)          (None, 128)               0         \n",
      "_________________________________________________________________\n",
      "dense_8 (Dense)              (None, 2)                 258       \n",
      "=================================================================\n",
      "Total params: 12,090\n",
      "Trainable params: 12,090\n",
      "Non-trainable params: 0\n",
      "_________________________________________________________________\n"
     ]
    }
   ],
   "source": [
    "# with regularisation in dense layer\n",
    "model = Sequential()\n",
    "model.add(Conv2D(8, kernel_size=(3, 3),\n",
    "                 strides=(2,2),\n",
    "                 activation='relu',\n",
    "                 input_shape=(22, 24, 4)))\n",
    "model.add(Conv2D(16, (5, 5), strides=(2,2), activation='relu'))\n",
    "model.add(MaxPooling2D(pool_size=(2, 2), padding=\"same\"))\n",
    "model.add(Dropout(0.25))\n",
    "model.add(Flatten())\n",
    "model.add(Dense(128, activation='relu', kernel_regularizer=regularizers.l2(0.01)))\n",
    "model.add(Dropout(0.5))\n",
    "model.add(Dense(num_classes, activation='softmax'))\n",
    "model.summary()\n",
    "model.compile(loss=keras.losses.categorical_crossentropy,\n",
    "              optimizer=keras.optimizers.Adagrad(),\n",
    "              metrics=['accuracy'])\n",
    "# adaptive gradient, batch size should increase, avoid overfitting, increase epochs"
   ]
  },
  {
   "cell_type": "code",
   "execution_count": 15,
   "metadata": {
    "scrolled": false
   },
   "outputs": [
    {
     "name": "stdout",
     "output_type": "stream",
     "text": [
      "Train on 19838 samples, validate on 8502 samples\n",
      "Epoch 1/40\n",
      "19838/19838 [==============================] - 10s 510us/step - loss: 0.4919 - acc: 0.8673 - val_loss: 2.1514 - val_acc: 0.8679\n",
      "Epoch 2/40\n",
      "19838/19838 [==============================] - 9s 477us/step - loss: 0.4064 - acc: 0.8679 - val_loss: 2.1410 - val_acc: 0.8679\n",
      "Epoch 3/40\n",
      "19838/19838 [==============================] - 11s 546us/step - loss: 0.3736 - acc: 0.8679 - val_loss: 1.7001 - val_acc: 0.8792\n",
      "Epoch 4/40\n",
      "19838/19838 [==============================] - 12s 617us/step - loss: 0.3539 - acc: 0.8679 - val_loss: 1.6339 - val_acc: 0.8749\n",
      "Epoch 5/40\n",
      "19838/19838 [==============================] - 11s 550us/step - loss: 0.3428 - acc: 0.8679 - val_loss: 1.2987 - val_acc: 0.8677\n",
      "Epoch 6/40\n",
      "19838/19838 [==============================] - 10s 519us/step - loss: 0.3392 - acc: 0.8679 - val_loss: 1.4143 - val_acc: 0.8681\n",
      "Epoch 7/40\n",
      "19838/19838 [==============================] - 12s 599us/step - loss: 0.3349 - acc: 0.8679 - val_loss: 1.3487 - val_acc: 0.8680\n",
      "Epoch 8/40\n",
      "19838/19838 [==============================] - 9s 434us/step - loss: 0.3306 - acc: 0.8679 - val_loss: 1.3107 - val_acc: 0.8679\n",
      "Epoch 9/40\n",
      "19838/19838 [==============================] - 10s 485us/step - loss: 0.3298 - acc: 0.8679 - val_loss: 1.2646 - val_acc: 0.8679\n",
      "Epoch 10/40\n",
      "19838/19838 [==============================] - 9s 464us/step - loss: 0.3275 - acc: 0.8679 - val_loss: 1.1518 - val_acc: 0.8679\n",
      "Epoch 11/40\n",
      "19838/19838 [==============================] - 9s 434us/step - loss: 0.3240 - acc: 0.8679 - val_loss: 0.9943 - val_acc: 0.8679\n",
      "Epoch 12/40\n",
      "19838/19838 [==============================] - 10s 505us/step - loss: 0.3251 - acc: 0.8679 - val_loss: 1.2502 - val_acc: 0.8679\n",
      "Epoch 13/40\n",
      "19838/19838 [==============================] - 10s 492us/step - loss: 0.3220 - acc: 0.8679 - val_loss: 1.2476 - val_acc: 0.8679\n",
      "Epoch 14/40\n",
      "19838/19838 [==============================] - 9s 469us/step - loss: 0.3218 - acc: 0.8679 - val_loss: 1.0983 - val_acc: 0.8679\n",
      "Epoch 15/40\n",
      "19838/19838 [==============================] - 8s 387us/step - loss: 0.3213 - acc: 0.8679 - val_loss: 1.2146 - val_acc: 0.8679\n",
      "Epoch 16/40\n",
      "19838/19838 [==============================] - 10s 528us/step - loss: 0.3219 - acc: 0.8679 - val_loss: 1.0918 - val_acc: 0.8679\n",
      "('Test loss:', 0.30918557342291719)\n",
      "('Test accuracy:', 0.86788990826529355)\n"
     ]
    }
   ],
   "source": [
    "earlyStopping = keras.callbacks.EarlyStopping(monitor='val_loss',min_delta=1e-6,patience=5,verbose=0, mode='auto')\n",
    "\n",
    "model.fit(x_train, y_train,\n",
    "          batch_size=64,\n",
    "          epochs=40,\n",
    "          verbose=1,\n",
    "          validation_data=(x_valid,y_valid),\n",
    "          callbacks=[earlyStopping])\n",
    "\n",
    "score = model.evaluate(x_test, y_test, verbose=0)\n",
    "print('Test loss:', score[0])\n",
    "print('Test accuracy:', score[1])"
   ]
  },
  {
   "cell_type": "code",
   "execution_count": 16,
   "metadata": {},
   "outputs": [
    {
     "name": "stdout",
     "output_type": "stream",
     "text": [
      "_________________________________________________________________\n",
      "Layer (type)                 Output Shape              Param #   \n",
      "=================================================================\n",
      "conv2d_9 (Conv2D)            (None, 10, 11, 8)         296       \n",
      "_________________________________________________________________\n",
      "conv2d_10 (Conv2D)           (None, 3, 4, 16)          3216      \n",
      "_________________________________________________________________\n",
      "max_pooling2d_5 (MaxPooling2 (None, 2, 2, 16)          0         \n",
      "_________________________________________________________________\n",
      "dropout_9 (Dropout)          (None, 2, 2, 16)          0         \n",
      "_________________________________________________________________\n",
      "flatten_5 (Flatten)          (None, 64)                0         \n",
      "_________________________________________________________________\n",
      "dense_9 (Dense)              (None, 128)               8320      \n",
      "_________________________________________________________________\n",
      "dropout_10 (Dropout)         (None, 128)               0         \n",
      "_________________________________________________________________\n",
      "dense_10 (Dense)             (None, 2)                 258       \n",
      "=================================================================\n",
      "Total params: 12,090\n",
      "Trainable params: 12,090\n",
      "Non-trainable params: 0\n",
      "_________________________________________________________________\n",
      "Train on 19838 samples, validate on 8502 samples\n",
      "Epoch 1/40\n",
      "19838/19838 [==============================] - 14s 707us/step - loss: 0.3944 - acc: 0.8666 - val_loss: 2.1290 - val_acc: 0.8679\n",
      "Epoch 2/40\n",
      "19838/19838 [==============================] - 13s 642us/step - loss: 0.3553 - acc: 0.8694 - val_loss: 1.8629 - val_acc: 0.8816\n",
      "Epoch 3/40\n",
      "19838/19838 [==============================] - 8s 397us/step - loss: 0.3367 - acc: 0.8738 - val_loss: 1.7901 - val_acc: 0.8853\n",
      "Epoch 4/40\n",
      "19838/19838 [==============================] - 7s 366us/step - loss: 0.3274 - acc: 0.8780 - val_loss: 1.7896 - val_acc: 0.8860\n",
      "Epoch 5/40\n",
      "19838/19838 [==============================] - 7s 374us/step - loss: 0.3213 - acc: 0.8799 - val_loss: 1.8756 - val_acc: 0.8789\n",
      "Epoch 6/40\n",
      "19838/19838 [==============================] - 8s 400us/step - loss: 0.3180 - acc: 0.8818 - val_loss: 1.8922 - val_acc: 0.8778\n",
      "Epoch 7/40\n",
      "19838/19838 [==============================] - 8s 406us/step - loss: 0.3148 - acc: 0.8818 - val_loss: 1.8470 - val_acc: 0.8812\n",
      "Epoch 8/40\n",
      "19838/19838 [==============================] - 8s 394us/step - loss: 0.3125 - acc: 0.8815 - val_loss: 1.7920 - val_acc: 0.8860\n",
      "Epoch 9/40\n",
      "19838/19838 [==============================] - 9s 429us/step - loss: 0.3079 - acc: 0.8848 - val_loss: 1.8438 - val_acc: 0.8821\n",
      "('Test loss:', 0.29453366120347863)\n",
      "('Test accuracy:', 0.88807339452065126)\n"
     ]
    }
   ],
   "source": [
    "# without regularisation \n",
    "model = Sequential()\n",
    "model.add(Conv2D(8, kernel_size=(3, 3),\n",
    "                 strides=(2,2),\n",
    "                 activation='relu',\n",
    "                 input_shape=(22, 24, 4)))\n",
    "model.add(Conv2D(16, (5, 5), strides=(2,2), activation='relu'))\n",
    "model.add(MaxPooling2D(pool_size=(2, 2), padding=\"same\"))\n",
    "model.add(Dropout(0.25))\n",
    "model.add(Flatten())\n",
    "model.add(Dense(128, activation='relu'))\n",
    "model.add(Dropout(0.5))\n",
    "model.add(Dense(num_classes, activation='softmax'))\n",
    "model.summary()\n",
    "model.compile(loss=keras.losses.categorical_crossentropy,\n",
    "              optimizer=keras.optimizers.Adagrad(),\n",
    "              metrics=['accuracy'])\n",
    "\n",
    "earlyStopping = keras.callbacks.EarlyStopping(monitor='val_loss',min_delta=1e-6,patience=5,verbose=0, mode='auto')\n",
    "\n",
    "model.fit(x_train, y_train,\n",
    "          batch_size=64,\n",
    "          epochs=40,\n",
    "          verbose=1,\n",
    "          validation_data=(x_valid,y_valid),\n",
    "          callbacks=[earlyStopping])\n",
    "\n",
    "score = model.evaluate(x_test, y_test, verbose=0)\n",
    "print('Test loss:', score[0])\n",
    "print('Test accuracy:', score[1])"
   ]
  },
  {
   "cell_type": "code",
   "execution_count": 8,
   "metadata": {},
   "outputs": [
    {
     "name": "stdout",
     "output_type": "stream",
     "text": [
      "_________________________________________________________________\n",
      "Layer (type)                 Output Shape              Param #   \n",
      "=================================================================\n",
      "conv2d_9 (Conv2D)            (None, 20, 22, 64)        2368      \n",
      "_________________________________________________________________\n",
      "max_pooling2d_3 (MaxPooling2 (None, 10, 11, 64)        0         \n",
      "_________________________________________________________________\n",
      "dropout_5 (Dropout)          (None, 10, 11, 64)        0         \n",
      "_________________________________________________________________\n",
      "conv2d_10 (Conv2D)           (None, 8, 9, 128)         73856     \n",
      "_________________________________________________________________\n",
      "conv2d_11 (Conv2D)           (None, 6, 7, 256)         295168    \n",
      "_________________________________________________________________\n",
      "flatten_3 (Flatten)          (None, 10752)             0         \n",
      "_________________________________________________________________\n",
      "dense_7 (Dense)              (None, 512)               5505536   \n",
      "_________________________________________________________________\n",
      "dropout_6 (Dropout)          (None, 512)               0         \n",
      "_________________________________________________________________\n",
      "dense_8 (Dense)              (None, 512)               262656    \n",
      "_________________________________________________________________\n",
      "dense_9 (Dense)              (None, 2)                 1026      \n",
      "=================================================================\n",
      "Total params: 6,140,610\n",
      "Trainable params: 6,140,610\n",
      "Non-trainable params: 0\n",
      "_________________________________________________________________\n",
      "Train on 19838 samples, validate on 8502 samples\n",
      "Epoch 1/40\n",
      "19838/19838 [==============================] - 110s 6ms/step - loss: 2.1276 - acc: 0.8676 - val_loss: 2.1290 - val_acc: 0.8679\n",
      "Epoch 2/40\n",
      "19838/19838 [==============================] - 109s 5ms/step - loss: 2.1295 - acc: 0.8679 - val_loss: 2.1290 - val_acc: 0.8679\n",
      "Epoch 3/40\n",
      "19838/19838 [==============================] - 107s 5ms/step - loss: 2.1295 - acc: 0.8679 - val_loss: 2.1290 - val_acc: 0.8679\n",
      "Epoch 4/40\n",
      "19838/19838 [==============================] - 112s 6ms/step - loss: 2.1295 - acc: 0.8679 - val_loss: 2.1290 - val_acc: 0.8679\n",
      "Epoch 5/40\n",
      "19838/19838 [==============================] - 109s 6ms/step - loss: 2.1295 - acc: 0.8679 - val_loss: 2.1290 - val_acc: 0.8679\n",
      "Epoch 6/40\n",
      "19838/19838 [==============================] - 110s 6ms/step - loss: 2.1295 - acc: 0.8679 - val_loss: 2.1290 - val_acc: 0.8679\n",
      "('Test loss:', 2.1293630703789463)\n",
      "('Test accuracy:', 0.86788990826529355)\n"
     ]
    }
   ],
   "source": [
    "#2nd attempt at CNN close to paper implementation\n",
    "model = Sequential()\n",
    "model.add(Conv2D(64, kernel_size=(3, 3),\n",
    "                 activation = 'relu',\n",
    "                 input_shape = (22, 24, 4)))\n",
    "model.add(MaxPooling2D(pool_size=(2, 2), padding=\"same\"))\n",
    "model.add(Dropout(0.1))\n",
    "model.add(Conv2D(128,kernel_size=(3, 3), activation = 'relu'))\n",
    "model.add(Conv2D(256,kernel_size=(3, 3), activation = 'relu'))\n",
    "model.add(Flatten())\n",
    "model.add(Dense(512, activation='relu'))\n",
    "model.add(Dropout(0.5))\n",
    "model.add(Dense(512, activation='relu'))\n",
    "model.add(Dense(num_classes, activation='softmax'))\n",
    "model.summary()\n",
    "model.compile(loss=keras.losses.categorical_crossentropy,\n",
    "              optimizer=keras.optimizers.Adagrad(),\n",
    "              metrics=['accuracy'])\n",
    "earlyStopping = keras.callbacks.EarlyStopping(monitor='val_loss',min_delta=1e-6,patience=3,verbose=0, mode='auto')\n",
    "\n",
    "model.fit(x_train, y_train,\n",
    "          batch_size=64,\n",
    "          epochs=40,\n",
    "          verbose=1,\n",
    "          validation_data=(x_valid,y_valid),\n",
    "          callbacks=[earlyStopping])\n",
    "\n",
    "score = model.evaluate(x_test, y_test, verbose=0)\n",
    "print('Test loss:', score[0])\n",
    "print('Test accuracy:', score[1])"
   ]
  },
  {
   "cell_type": "code",
   "execution_count": 18,
   "metadata": {},
   "outputs": [],
   "source": [
    "ypred = model.predict(x_test)"
   ]
  },
  {
   "cell_type": "code",
   "execution_count": 20,
   "metadata": {},
   "outputs": [
    {
     "data": {
      "text/plain": [
       "array([[6149,    0],\n",
       "       [ 936,    0]])"
      ]
     },
     "execution_count": 20,
     "metadata": {},
     "output_type": "execute_result"
    }
   ],
   "source": [
    "from sklearn.metrics import confusion_matrix\n",
    "confusion_matrix(y_test.argmax(axis=1),ypred.argmax(axis=1))"
   ]
  }
 ],
 "metadata": {
  "kernelspec": {
   "display_name": "Python 2",
   "language": "python",
   "name": "python2"
  },
  "language_info": {
   "codemirror_mode": {
    "name": "ipython",
    "version": 2
   },
   "file_extension": ".py",
   "mimetype": "text/x-python",
   "name": "python",
   "nbconvert_exporter": "python",
   "pygments_lexer": "ipython2",
   "version": "2.7.8"
  }
 },
 "nbformat": 4,
 "nbformat_minor": 2
}
